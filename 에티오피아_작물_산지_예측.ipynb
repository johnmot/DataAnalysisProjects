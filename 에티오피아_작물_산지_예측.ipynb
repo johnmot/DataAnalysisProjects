{
  "nbformat": 4,
  "nbformat_minor": 0,
  "metadata": {
    "kernelspec": {
      "display_name": "Python 3",
      "language": "python",
      "name": "python3"
    },
    "language_info": {
      "codemirror_mode": {
        "name": "ipython",
        "version": 3
      },
      "file_extension": ".py",
      "mimetype": "text/x-python",
      "name": "python",
      "nbconvert_exporter": "python",
      "pygments_lexer": "ipython3",
      "version": "3.8.3"
    },
    "colab": {
      "name": "에티오피아 작물 산지 예측.ipynb",
      "provenance": [],
      "include_colab_link": true
    }
  },
  "cells": [
    {
      "cell_type": "markdown",
      "metadata": {
        "id": "view-in-github",
        "colab_type": "text"
      },
      "source": [
        "<a href=\"https://colab.research.google.com/github/johnmot/DataAnalysisProjects/blob/main/%E1%84%8B%E1%85%A6%E1%84%90%E1%85%B5%E1%84%8B%E1%85%A9%E1%84%91%E1%85%B5%E1%84%8B%E1%85%A1_%E1%84%8C%E1%85%A1%E1%86%A8%E1%84%86%E1%85%AE%E1%86%AF_%E1%84%89%E1%85%A1%E1%86%AB%E1%84%8C%E1%85%B5_%E1%84%8B%E1%85%A8%E1%84%8E%E1%85%B3%E1%86%A8.ipynb\" target=\"_parent\"><img src=\"https://colab.research.google.com/assets/colab-badge.svg\" alt=\"Open In Colab\"/></a>"
      ]
    },
    {
      "cell_type": "markdown",
      "metadata": {
        "id": "EPlUvUaChTRy"
      },
      "source": [
        "# Package loading & Data Input"
      ]
    },
    {
      "cell_type": "code",
      "metadata": {
        "id": "frUPr9sUhTR3",
        "outputId": "c2b5da87-ac03-44e3-d3f6-154da2948ee6"
      },
      "source": [
        "import pandas as pd\n",
        "import numpy as np\n",
        "import matplotlib.pyplot as plt\n",
        "import seaborn as sns\n",
        "from sklearn.metrics import classification_report\n",
        "%matplotlib inline\n",
        "df = pd.read_csv(\"/Users/xxxx/Downloads/archive (4)/Barley.data.csv\")\n",
        "df.head()"
      ],
      "execution_count": null,
      "outputs": [
        {
          "output_type": "execute_result",
          "data": {
            "text/html": [
              "<div>\n",
              "<style scoped>\n",
              "    .dataframe tbody tr th:only-of-type {\n",
              "        vertical-align: middle;\n",
              "    }\n",
              "\n",
              "    .dataframe tbody tr th {\n",
              "        vertical-align: top;\n",
              "    }\n",
              "\n",
              "    .dataframe thead th {\n",
              "        text-align: right;\n",
              "    }\n",
              "</style>\n",
              "<table border=\"1\" class=\"dataframe\">\n",
              "  <thead>\n",
              "    <tr style=\"text-align: right;\">\n",
              "      <th></th>\n",
              "      <th>Predictor</th>\n",
              "      <th>740</th>\n",
              "      <th>741</th>\n",
              "      <th>742</th>\n",
              "      <th>743</th>\n",
              "      <th>744</th>\n",
              "      <th>745</th>\n",
              "      <th>746</th>\n",
              "      <th>747</th>\n",
              "      <th>748</th>\n",
              "      <th>...</th>\n",
              "      <th>1061</th>\n",
              "      <th>1062</th>\n",
              "      <th>1063</th>\n",
              "      <th>1064</th>\n",
              "      <th>1065</th>\n",
              "      <th>1066</th>\n",
              "      <th>1067</th>\n",
              "      <th>1068</th>\n",
              "      <th>1069</th>\n",
              "      <th>1070</th>\n",
              "    </tr>\n",
              "  </thead>\n",
              "  <tbody>\n",
              "    <tr>\n",
              "      <th>0</th>\n",
              "      <td>HB-52</td>\n",
              "      <td>1.499853</td>\n",
              "      <td>1.500665</td>\n",
              "      <td>1.501564</td>\n",
              "      <td>1.502536</td>\n",
              "      <td>1.503537</td>\n",
              "      <td>1.504548</td>\n",
              "      <td>1.505588</td>\n",
              "      <td>1.506689</td>\n",
              "      <td>1.507828</td>\n",
              "      <td>...</td>\n",
              "      <td>1.636411</td>\n",
              "      <td>1.637350</td>\n",
              "      <td>1.636452</td>\n",
              "      <td>1.634370</td>\n",
              "      <td>1.632287</td>\n",
              "      <td>1.630265</td>\n",
              "      <td>1.630722</td>\n",
              "      <td>1.633166</td>\n",
              "      <td>1.636204</td>\n",
              "      <td>1.637872</td>\n",
              "    </tr>\n",
              "    <tr>\n",
              "      <th>1</th>\n",
              "      <td>HB-52</td>\n",
              "      <td>1.530877</td>\n",
              "      <td>1.531669</td>\n",
              "      <td>1.532524</td>\n",
              "      <td>1.533419</td>\n",
              "      <td>1.534308</td>\n",
              "      <td>1.535169</td>\n",
              "      <td>1.536024</td>\n",
              "      <td>1.536916</td>\n",
              "      <td>1.537830</td>\n",
              "      <td>...</td>\n",
              "      <td>1.643299</td>\n",
              "      <td>1.644222</td>\n",
              "      <td>1.643302</td>\n",
              "      <td>1.641195</td>\n",
              "      <td>1.639088</td>\n",
              "      <td>1.637046</td>\n",
              "      <td>1.637493</td>\n",
              "      <td>1.639938</td>\n",
              "      <td>1.642981</td>\n",
              "      <td>1.644649</td>\n",
              "    </tr>\n",
              "    <tr>\n",
              "      <th>2</th>\n",
              "      <td>HB-52</td>\n",
              "      <td>1.607175</td>\n",
              "      <td>1.608642</td>\n",
              "      <td>1.610044</td>\n",
              "      <td>1.611357</td>\n",
              "      <td>1.612540</td>\n",
              "      <td>1.613585</td>\n",
              "      <td>1.614534</td>\n",
              "      <td>1.615456</td>\n",
              "      <td>1.616359</td>\n",
              "      <td>...</td>\n",
              "      <td>1.703343</td>\n",
              "      <td>1.704291</td>\n",
              "      <td>1.703329</td>\n",
              "      <td>1.701137</td>\n",
              "      <td>1.698946</td>\n",
              "      <td>1.696822</td>\n",
              "      <td>1.697278</td>\n",
              "      <td>1.699806</td>\n",
              "      <td>1.702953</td>\n",
              "      <td>1.704677</td>\n",
              "    </tr>\n",
              "    <tr>\n",
              "      <th>3</th>\n",
              "      <td>HB-52</td>\n",
              "      <td>1.677333</td>\n",
              "      <td>1.678098</td>\n",
              "      <td>1.678930</td>\n",
              "      <td>1.679809</td>\n",
              "      <td>1.680688</td>\n",
              "      <td>1.681539</td>\n",
              "      <td>1.682384</td>\n",
              "      <td>1.683260</td>\n",
              "      <td>1.684145</td>\n",
              "      <td>...</td>\n",
              "      <td>1.755067</td>\n",
              "      <td>1.756013</td>\n",
              "      <td>1.754996</td>\n",
              "      <td>1.752716</td>\n",
              "      <td>1.750441</td>\n",
              "      <td>1.748238</td>\n",
              "      <td>1.748696</td>\n",
              "      <td>1.751290</td>\n",
              "      <td>1.754525</td>\n",
              "      <td>1.756294</td>\n",
              "    </tr>\n",
              "    <tr>\n",
              "      <th>4</th>\n",
              "      <td>HB-52</td>\n",
              "      <td>1.507830</td>\n",
              "      <td>1.509293</td>\n",
              "      <td>1.510683</td>\n",
              "      <td>1.511977</td>\n",
              "      <td>1.513145</td>\n",
              "      <td>1.514180</td>\n",
              "      <td>1.515125</td>\n",
              "      <td>1.516049</td>\n",
              "      <td>1.516964</td>\n",
              "      <td>...</td>\n",
              "      <td>1.641968</td>\n",
              "      <td>1.642877</td>\n",
              "      <td>1.641946</td>\n",
              "      <td>1.639829</td>\n",
              "      <td>1.637714</td>\n",
              "      <td>1.635664</td>\n",
              "      <td>1.636101</td>\n",
              "      <td>1.638535</td>\n",
              "      <td>1.641567</td>\n",
              "      <td>1.643227</td>\n",
              "    </tr>\n",
              "  </tbody>\n",
              "</table>\n",
              "<p>5 rows × 332 columns</p>\n",
              "</div>"
            ],
            "text/plain": [
              "  Predictor       740       741       742       743       744       745  \\\n",
              "0     HB-52  1.499853  1.500665  1.501564  1.502536  1.503537  1.504548   \n",
              "1     HB-52  1.530877  1.531669  1.532524  1.533419  1.534308  1.535169   \n",
              "2     HB-52  1.607175  1.608642  1.610044  1.611357  1.612540  1.613585   \n",
              "3     HB-52  1.677333  1.678098  1.678930  1.679809  1.680688  1.681539   \n",
              "4     HB-52  1.507830  1.509293  1.510683  1.511977  1.513145  1.514180   \n",
              "\n",
              "        746       747       748  ...      1061      1062      1063      1064  \\\n",
              "0  1.505588  1.506689  1.507828  ...  1.636411  1.637350  1.636452  1.634370   \n",
              "1  1.536024  1.536916  1.537830  ...  1.643299  1.644222  1.643302  1.641195   \n",
              "2  1.614534  1.615456  1.616359  ...  1.703343  1.704291  1.703329  1.701137   \n",
              "3  1.682384  1.683260  1.684145  ...  1.755067  1.756013  1.754996  1.752716   \n",
              "4  1.515125  1.516049  1.516964  ...  1.641968  1.642877  1.641946  1.639829   \n",
              "\n",
              "       1065      1066      1067      1068      1069      1070  \n",
              "0  1.632287  1.630265  1.630722  1.633166  1.636204  1.637872  \n",
              "1  1.639088  1.637046  1.637493  1.639938  1.642981  1.644649  \n",
              "2  1.698946  1.696822  1.697278  1.699806  1.702953  1.704677  \n",
              "3  1.750441  1.748238  1.748696  1.751290  1.754525  1.756294  \n",
              "4  1.637714  1.635664  1.636101  1.638535  1.641567  1.643227  \n",
              "\n",
              "[5 rows x 332 columns]"
            ]
          },
          "metadata": {
            "tags": []
          },
          "execution_count": 37
        }
      ]
    },
    {
      "cell_type": "code",
      "metadata": {
        "id": "f7dOmsB8hTR4"
      },
      "source": [
        "x_data = df.iloc[:,1:332]\n",
        "y_data=pd.DataFrame(df['Predictor'])"
      ],
      "execution_count": null,
      "outputs": []
    },
    {
      "cell_type": "markdown",
      "metadata": {
        "id": "jovTI6zvhTR5"
      },
      "source": [
        "# Exploratory analysis"
      ]
    },
    {
      "cell_type": "code",
      "metadata": {
        "id": "SLzlrKF8hTR5",
        "outputId": "d72828cd-3545-4821-c400-ea3c848a9038"
      },
      "source": [
        "df['Predictor'].value_counts()"
      ],
      "execution_count": null,
      "outputs": [
        {
          "output_type": "execute_result",
          "data": {
            "text/plain": [
              " Ardu 1260 B    50\n",
              "Beka            50\n",
              "Holker          50\n",
              "HB-52           50\n",
              " HB-1963        50\n",
              " Grace          50\n",
              "Misccal-21      50\n",
              " HB-1307        50\n",
              " Traveller      50\n",
              " Sabini         50\n",
              " Cross 41/98    50\n",
              " Bahati         50\n",
              " Explorer       50\n",
              " Bekoji-1       50\n",
              " Dimtu          50\n",
              " EH 1493        50\n",
              " Deribe         50\n",
              " HB-1964        50\n",
              " IBON 174/03    50\n",
              " EH 1847        50\n",
              " HB-1533        50\n",
              " HB-1965        50\n",
              " HB-1966        50\n",
              " Shege          50\n",
              "Name: Predictor, dtype: int64"
            ]
          },
          "metadata": {
            "tags": []
          },
          "execution_count": 46
        }
      ]
    },
    {
      "cell_type": "code",
      "metadata": {
        "id": "FKaZ-LINhTR5"
      },
      "source": [
        "from sklearn import preprocessing\n",
        "le = preprocessing.LabelEncoder()\n",
        "y_data = y_data.apply(le.fit_transform)"
      ],
      "execution_count": null,
      "outputs": []
    },
    {
      "cell_type": "code",
      "metadata": {
        "id": "75BPdJfwhTR6"
      },
      "source": [
        ""
      ],
      "execution_count": null,
      "outputs": []
    },
    {
      "cell_type": "markdown",
      "metadata": {
        "id": "upJdu26DhTR6"
      },
      "source": [
        "# Preprocessing"
      ]
    },
    {
      "cell_type": "code",
      "metadata": {
        "id": "DTgcyFhMhTR6",
        "outputId": "3509f22d-abee-4f8b-8f4a-73ab3e7f4521"
      },
      "source": [
        "#Savitzky-Golay filter with derivative.\n",
        "from scipy.signal import savgol_filter \n",
        "\n",
        "sg=savgol_filter(x_data,window_length=11, polyorder=3, deriv=2, delta=1.0)\n",
        "\n",
        "sg_x=pd.DataFrame(sg, columns=x_data.columns)\n",
        "\n",
        "sg_x.head()"
      ],
      "execution_count": null,
      "outputs": [
        {
          "output_type": "execute_result",
          "data": {
            "text/html": [
              "<div>\n",
              "<style scoped>\n",
              "    .dataframe tbody tr th:only-of-type {\n",
              "        vertical-align: middle;\n",
              "    }\n",
              "\n",
              "    .dataframe tbody tr th {\n",
              "        vertical-align: top;\n",
              "    }\n",
              "\n",
              "    .dataframe thead th {\n",
              "        text-align: right;\n",
              "    }\n",
              "</style>\n",
              "<table border=\"1\" class=\"dataframe\">\n",
              "  <thead>\n",
              "    <tr style=\"text-align: right;\">\n",
              "      <th></th>\n",
              "      <th>740</th>\n",
              "      <th>741</th>\n",
              "      <th>742</th>\n",
              "      <th>743</th>\n",
              "      <th>744</th>\n",
              "      <th>745</th>\n",
              "      <th>746</th>\n",
              "      <th>747</th>\n",
              "      <th>748</th>\n",
              "      <th>749</th>\n",
              "      <th>...</th>\n",
              "      <th>1061</th>\n",
              "      <th>1062</th>\n",
              "      <th>1063</th>\n",
              "      <th>1064</th>\n",
              "      <th>1065</th>\n",
              "      <th>1066</th>\n",
              "      <th>1067</th>\n",
              "      <th>1068</th>\n",
              "      <th>1069</th>\n",
              "      <th>1070</th>\n",
              "    </tr>\n",
              "  </thead>\n",
              "  <tbody>\n",
              "    <tr>\n",
              "      <th>0</th>\n",
              "      <td>0.000084</td>\n",
              "      <td>0.000073</td>\n",
              "      <td>0.000061</td>\n",
              "      <td>0.000050</td>\n",
              "      <td>0.000039</td>\n",
              "      <td>0.000028</td>\n",
              "      <td>0.000010</td>\n",
              "      <td>-0.000011</td>\n",
              "      <td>-0.000030</td>\n",
              "      <td>-0.000044</td>\n",
              "      <td>...</td>\n",
              "      <td>-0.000446</td>\n",
              "      <td>-0.000474</td>\n",
              "      <td>-0.000300</td>\n",
              "      <td>0.000008</td>\n",
              "      <td>0.000319</td>\n",
              "      <td>0.000781</td>\n",
              "      <td>0.001243</td>\n",
              "      <td>0.001705</td>\n",
              "      <td>0.002167</td>\n",
              "      <td>0.002629</td>\n",
              "    </tr>\n",
              "    <tr>\n",
              "      <th>1</th>\n",
              "      <td>0.000033</td>\n",
              "      <td>0.000027</td>\n",
              "      <td>0.000021</td>\n",
              "      <td>0.000014</td>\n",
              "      <td>0.000008</td>\n",
              "      <td>0.000001</td>\n",
              "      <td>-0.000011</td>\n",
              "      <td>-0.000024</td>\n",
              "      <td>-0.000036</td>\n",
              "      <td>-0.000042</td>\n",
              "      <td>...</td>\n",
              "      <td>-0.000446</td>\n",
              "      <td>-0.000474</td>\n",
              "      <td>-0.000300</td>\n",
              "      <td>0.000010</td>\n",
              "      <td>0.000322</td>\n",
              "      <td>0.000786</td>\n",
              "      <td>0.001250</td>\n",
              "      <td>0.001714</td>\n",
              "      <td>0.002178</td>\n",
              "      <td>0.002642</td>\n",
              "    </tr>\n",
              "    <tr>\n",
              "      <th>2</th>\n",
              "      <td>-0.000139</td>\n",
              "      <td>-0.000128</td>\n",
              "      <td>-0.000117</td>\n",
              "      <td>-0.000105</td>\n",
              "      <td>-0.000094</td>\n",
              "      <td>-0.000082</td>\n",
              "      <td>-0.000078</td>\n",
              "      <td>-0.000073</td>\n",
              "      <td>-0.000069</td>\n",
              "      <td>-0.000060</td>\n",
              "      <td>...</td>\n",
              "      <td>-0.000462</td>\n",
              "      <td>-0.000491</td>\n",
              "      <td>-0.000310</td>\n",
              "      <td>0.000010</td>\n",
              "      <td>0.000334</td>\n",
              "      <td>0.000815</td>\n",
              "      <td>0.001296</td>\n",
              "      <td>0.001777</td>\n",
              "      <td>0.002258</td>\n",
              "      <td>0.002738</td>\n",
              "    </tr>\n",
              "    <tr>\n",
              "      <th>3</th>\n",
              "      <td>0.000055</td>\n",
              "      <td>0.000043</td>\n",
              "      <td>0.000031</td>\n",
              "      <td>0.000020</td>\n",
              "      <td>0.000008</td>\n",
              "      <td>-0.000004</td>\n",
              "      <td>-0.000022</td>\n",
              "      <td>-0.000043</td>\n",
              "      <td>-0.000061</td>\n",
              "      <td>-0.000071</td>\n",
              "      <td>...</td>\n",
              "      <td>-0.000471</td>\n",
              "      <td>-0.000502</td>\n",
              "      <td>-0.000315</td>\n",
              "      <td>0.000014</td>\n",
              "      <td>0.000347</td>\n",
              "      <td>0.000842</td>\n",
              "      <td>0.001337</td>\n",
              "      <td>0.001832</td>\n",
              "      <td>0.002327</td>\n",
              "      <td>0.002822</td>\n",
              "    </tr>\n",
              "    <tr>\n",
              "      <th>4</th>\n",
              "      <td>-0.000148</td>\n",
              "      <td>-0.000133</td>\n",
              "      <td>-0.000119</td>\n",
              "      <td>-0.000105</td>\n",
              "      <td>-0.000091</td>\n",
              "      <td>-0.000077</td>\n",
              "      <td>-0.000069</td>\n",
              "      <td>-0.000062</td>\n",
              "      <td>-0.000055</td>\n",
              "      <td>-0.000045</td>\n",
              "      <td>...</td>\n",
              "      <td>-0.000446</td>\n",
              "      <td>-0.000473</td>\n",
              "      <td>-0.000299</td>\n",
              "      <td>0.000010</td>\n",
              "      <td>0.000322</td>\n",
              "      <td>0.000786</td>\n",
              "      <td>0.001249</td>\n",
              "      <td>0.001713</td>\n",
              "      <td>0.002176</td>\n",
              "      <td>0.002640</td>\n",
              "    </tr>\n",
              "  </tbody>\n",
              "</table>\n",
              "<p>5 rows × 331 columns</p>\n",
              "</div>"
            ],
            "text/plain": [
              "        740       741       742       743       744       745       746  \\\n",
              "0  0.000084  0.000073  0.000061  0.000050  0.000039  0.000028  0.000010   \n",
              "1  0.000033  0.000027  0.000021  0.000014  0.000008  0.000001 -0.000011   \n",
              "2 -0.000139 -0.000128 -0.000117 -0.000105 -0.000094 -0.000082 -0.000078   \n",
              "3  0.000055  0.000043  0.000031  0.000020  0.000008 -0.000004 -0.000022   \n",
              "4 -0.000148 -0.000133 -0.000119 -0.000105 -0.000091 -0.000077 -0.000069   \n",
              "\n",
              "        747       748       749  ...      1061      1062      1063      1064  \\\n",
              "0 -0.000011 -0.000030 -0.000044  ... -0.000446 -0.000474 -0.000300  0.000008   \n",
              "1 -0.000024 -0.000036 -0.000042  ... -0.000446 -0.000474 -0.000300  0.000010   \n",
              "2 -0.000073 -0.000069 -0.000060  ... -0.000462 -0.000491 -0.000310  0.000010   \n",
              "3 -0.000043 -0.000061 -0.000071  ... -0.000471 -0.000502 -0.000315  0.000014   \n",
              "4 -0.000062 -0.000055 -0.000045  ... -0.000446 -0.000473 -0.000299  0.000010   \n",
              "\n",
              "       1065      1066      1067      1068      1069      1070  \n",
              "0  0.000319  0.000781  0.001243  0.001705  0.002167  0.002629  \n",
              "1  0.000322  0.000786  0.001250  0.001714  0.002178  0.002642  \n",
              "2  0.000334  0.000815  0.001296  0.001777  0.002258  0.002738  \n",
              "3  0.000347  0.000842  0.001337  0.001832  0.002327  0.002822  \n",
              "4  0.000322  0.000786  0.001249  0.001713  0.002176  0.002640  \n",
              "\n",
              "[5 rows x 331 columns]"
            ]
          },
          "metadata": {
            "tags": []
          },
          "execution_count": 71
        }
      ]
    },
    {
      "cell_type": "code",
      "metadata": {
        "id": "Ltd6nsjwhTR6"
      },
      "source": [
        "from sklearn.model_selection import train_test_split\n",
        "x_train, x_test, y_train, y_test = train_test_split(sg_x, y_data ,\n",
        "                                                    test_size=0.2,\n",
        "                                                    random_state=77 ,stratify=Y)"
      ],
      "execution_count": null,
      "outputs": []
    },
    {
      "cell_type": "markdown",
      "metadata": {
        "id": "NADXhZEDhTR7"
      },
      "source": [
        "# Modeling"
      ]
    },
    {
      "cell_type": "markdown",
      "metadata": {
        "id": "B7fD7BWzhTR7"
      },
      "source": [
        "Random Forest"
      ]
    },
    {
      "cell_type": "code",
      "metadata": {
        "id": "21tBr7fbhTR7",
        "outputId": "0297225a-6c7a-4ff8-d38c-20a817c07769"
      },
      "source": [
        "from sklearn.ensemble import RandomForestClassifier\n",
        "from sklearn.metrics import accuracy_score\n",
        "rf = RandomForestClassifier(random_state=77)\n",
        "rf.fit(x_train, y_train)"
      ],
      "execution_count": null,
      "outputs": [
        {
          "output_type": "stream",
          "text": [
            "<ipython-input-73-93a1eac0190f>:4: DataConversionWarning: A column-vector y was passed when a 1d array was expected. Please change the shape of y to (n_samples,), for example using ravel().\n",
            "  rf.fit(x_train, y_train)\n"
          ],
          "name": "stderr"
        },
        {
          "output_type": "execute_result",
          "data": {
            "text/plain": [
              "RandomForestClassifier(random_state=77)"
            ]
          },
          "metadata": {
            "tags": []
          },
          "execution_count": 73
        }
      ]
    },
    {
      "cell_type": "code",
      "metadata": {
        "id": "k_3bfMhqhTR7",
        "outputId": "8febe425-7d1a-4250-8986-b708e848444b"
      },
      "source": [
        "y_predt = rf.predict(x_train)\n",
        "print(\"훈련 정확도: {:.3f}\".format(accuracy_score(y_predt, y_train)))\n",
        "y_pred = rf.predict(x_test)\n",
        "print(\"예측 정확도: {:.3f}\".format(accuracy_score(y_pred, y_test)))"
      ],
      "execution_count": null,
      "outputs": [
        {
          "output_type": "stream",
          "text": [
            "훈련 정확도: 1.000\n",
            "예측 정확도: 0.787\n"
          ],
          "name": "stdout"
        }
      ]
    },
    {
      "cell_type": "code",
      "metadata": {
        "id": "5xDJrD1MhTR8",
        "outputId": "fa9ea15c-12de-4c97-9d85-f03f36639a4c"
      },
      "source": [
        "print(classification_report(y_test, y_pred))"
      ],
      "execution_count": null,
      "outputs": [
        {
          "output_type": "stream",
          "text": [
            "              precision    recall  f1-score   support\n",
            "\n",
            "           0       0.88      0.70      0.78        10\n",
            "           1       1.00      1.00      1.00        10\n",
            "           2       1.00      0.90      0.95        10\n",
            "           3       0.67      1.00      0.80        10\n",
            "           4       0.62      1.00      0.77        10\n",
            "           5       1.00      0.90      0.95        10\n",
            "           6       0.91      1.00      0.95        10\n",
            "           7       0.71      0.50      0.59        10\n",
            "           8       1.00      0.70      0.82        10\n",
            "           9       0.77      1.00      0.87        10\n",
            "          10       0.59      1.00      0.74        10\n",
            "          11       0.50      0.20      0.29        10\n",
            "          12       1.00      0.70      0.82        10\n",
            "          13       1.00      1.00      1.00        10\n",
            "          14       0.90      0.90      0.90        10\n",
            "          15       0.47      0.70      0.56        10\n",
            "          16       0.71      1.00      0.83        10\n",
            "          17       0.67      0.40      0.50        10\n",
            "          18       1.00      0.10      0.18        10\n",
            "          19       0.90      0.90      0.90        10\n",
            "          20       0.83      1.00      0.91        10\n",
            "          21       0.90      0.90      0.90        10\n",
            "          22       0.60      0.60      0.60        10\n",
            "          23       0.89      0.80      0.84        10\n",
            "\n",
            "    accuracy                           0.79       240\n",
            "   macro avg       0.81      0.79      0.77       240\n",
            "weighted avg       0.81      0.79      0.77       240\n",
            "\n"
          ],
          "name": "stdout"
        }
      ]
    },
    {
      "cell_type": "markdown",
      "metadata": {
        "id": "9fpAJA1EhTR8"
      },
      "source": [
        "Linear Regression"
      ]
    },
    {
      "cell_type": "code",
      "metadata": {
        "id": "j1vWffYYhTR8",
        "outputId": "7c014214-1920-4143-94aa-c2c1c0416097"
      },
      "source": [
        "from sklearn.linear_model import LogisticRegression\n",
        "lr = LogisticRegression(random_state=77)\n",
        "\n",
        "lr.fit(x_train, y_train)"
      ],
      "execution_count": null,
      "outputs": [
        {
          "output_type": "stream",
          "text": [
            "/opt/anaconda3/lib/python3.8/site-packages/sklearn/utils/validation.py:73: DataConversionWarning: A column-vector y was passed when a 1d array was expected. Please change the shape of y to (n_samples, ), for example using ravel().\n",
            "  return f(**kwargs)\n"
          ],
          "name": "stderr"
        },
        {
          "output_type": "execute_result",
          "data": {
            "text/plain": [
              "LogisticRegression(random_state=77)"
            ]
          },
          "metadata": {
            "tags": []
          },
          "execution_count": 76
        }
      ]
    },
    {
      "cell_type": "code",
      "metadata": {
        "id": "OPu4ZPZMhTR8",
        "outputId": "370cc727-fb49-460d-fbeb-47023d01474b"
      },
      "source": [
        "y_predt = lr.predict(x_train)\n",
        "print(\"훈련 정확도: {:.3f}\".format(accuracy_score(y_predt, y_train)))\n",
        "y_pred = lr.predict(x_test)\n",
        "print(\"예측 정확도: {:.3f}\".format(accuracy_score(y_pred, y_test)))"
      ],
      "execution_count": null,
      "outputs": [
        {
          "output_type": "stream",
          "text": [
            "훈련 정확도: 0.152\n",
            "예측 정확도: 0.121\n"
          ],
          "name": "stdout"
        }
      ]
    },
    {
      "cell_type": "code",
      "metadata": {
        "id": "YpgCtHQdhTR9"
      },
      "source": [
        ""
      ],
      "execution_count": null,
      "outputs": []
    }
  ]
}